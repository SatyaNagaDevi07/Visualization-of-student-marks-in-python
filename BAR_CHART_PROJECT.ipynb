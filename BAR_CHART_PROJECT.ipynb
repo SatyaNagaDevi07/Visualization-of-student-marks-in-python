{
  "nbformat": 4,
  "nbformat_minor": 0,
  "metadata": {
    "colab": {
      "provenance": []
    },
    "kernelspec": {
      "name": "python3",
      "display_name": "Python 3"
    },
    "language_info": {
      "name": "python"
    }
  },
  "cells": [
    {
      "cell_type": "code",
      "source": [
        "import pandas as pd\n",
        "import matplotlib.pyplot as plt\n",
        "import numpy as np\n",
        "data=pd.read_excel(r'/content/pw2.xlsx')\n",
        "print(\"Data\")\n",
        "print(data)\n",
        "data1=data\n",
        "col=list(data.columns)\n",
        "#print(col)    #column names\n",
        "f0=col[0]\n",
        "f1=col[len(col)-1]\n",
        "temp=[]\n",
        "for i in range(1,len(col)-1):\n",
        "    temp.append(col[i])\n",
        "#print(temp)         #X-axis names or subject names\n",
        "m=[]\n",
        "for i in col:\n",
        "    m.append(list(data[i]))\n",
        "#print(m)      #column values as list\n",
        "v=len(m)\n",
        "#print(v)            #length of m\n",
        "f=[]\n",
        "for i in m[0]:\n",
        "    f.append(i)\n",
        "#print(f)    #starting column value\n",
        "tot=list(m[v-1])\n",
        "#print(tot)  #last column values\n",
        "sub=m\n",
        "sub.pop(0)\n",
        "sub.pop(-1)\n",
        "l=[]\n",
        "for i in sub:\n",
        "    res=[round(((i/t)*100)) for i,t in zip(i,tot)]   #calculating percentage\n",
        "    l.append(res)\n",
        "#print(l)    #percentage list\n",
        "a=np.array(l)\n",
        "print(\"Percentage array\")\n",
        "z=a.T       #percentage array\n",
        "print(z)\n",
        "van=pd.DataFrame(z)        #data frame for the percentage representation in bar plot\n",
        "van=van.T\n",
        "#print(van)\n",
        "print(\"Stacked bar chart with percentage representation\")\n",
        "plt.bar(temp,z[0])\n",
        "b=np.array([0]*len(temp))\n",
        "for i in range(1,len(z)):\n",
        "        b=b+z[i-1]\n",
        "        plt.bar(temp,z[i],bottom=b)\n",
        "for n, x in enumerate([*van.index.values]):\n",
        "    for (proportion, y_loc) in zip(van.loc[x],\n",
        "                                   van.loc[x].cumsum()):          #percentages in barplot\n",
        "               \n",
        "        plt.text(x=n - 0.17,\n",
        "                  y=(y_loc - proportion) + (proportion / 2),\n",
        "                 s=f'{np.round(proportion, 1)}%',\n",
        "                 color=\"black\",\n",
        "                 fontsize=12,\n",
        "                 fontweight=\"bold\")\n",
        "plt.legend(f,loc='upper left', bbox_to_anchor=(1,1), ncol=1)\n",
        "plt.show()"
      ],
      "metadata": {
        "colab": {
          "base_uri": "https://localhost:8080/",
          "height": 473
        },
        "id": "d-akicFnua4N",
        "outputId": "09f1430c-0fd7-4ebc-ecd3-bc918da003d7"
      },
      "execution_count": 4,
      "outputs": [
        {
          "output_type": "stream",
          "name": "stdout",
          "text": [
            "Data\n",
            "  classes  m1  m2  total\n",
            "0     cse  10  40     50\n",
            "1     csd  20  20     40\n",
            "2     ece  30  10     40\n",
            "3   civil  40  30     70\n",
            "Percentage array\n",
            "[[20 80]\n",
            " [50 50]\n",
            " [75 25]\n",
            " [57 43]]\n",
            "Stacked bar chart with percentage representation\n"
          ]
        },
        {
          "output_type": "display_data",
          "data": {
            "text/plain": [
              "<Figure size 432x288 with 1 Axes>"
            ],
            "image/png": "[encoded data removed]"
          },
          "metadata": {
            "needs_background": "light"
          }
        }
      ]
    },
    {
      "cell_type": "code",
      "source": [],
      "metadata": {
        "id": "9TuphPl6utmJ"
      },
      "execution_count": null,
      "outputs": []
    }
  ]
}